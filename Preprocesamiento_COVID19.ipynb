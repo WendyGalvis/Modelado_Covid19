{
  "nbformat": 4,
  "nbformat_minor": 0,
  "metadata": {
    "colab": {
      "provenance": []
    },
    "kernelspec": {
      "name": "python3",
      "display_name": "Python 3"
    },
    "language_info": {
      "name": "python"
    }
  },
  "cells": [
    {
      "cell_type": "markdown",
      "source": [
        "# Importar librerías y datos"
      ],
      "metadata": {
        "id": "7Sz66fmAU0ET"
      }
    },
    {
      "cell_type": "code",
      "execution_count": null,
      "metadata": {
        "id": "RvmmMr_lP2df"
      },
      "outputs": [],
      "source": [
        "import pandas as pd"
      ]
    },
    {
      "cell_type": "code",
      "source": [
        "df_ene_mar = pd.read_csv(\"Ene-mar.csv\")\n",
        "df_abr_jun = pd.read_csv(\"Abr-jun.csv\")\n",
        "df_jul_ago = pd.read_csv(\"Jul-Ago.csv\")\n",
        "df_sep_oct = pd.read_csv(\"Sep-oct.csv\")\n",
        "df_nov = pd.read_csv(\"nov.csv\")\n",
        "df_dic = pd.read_csv(\"dic.csv\")"
      ],
      "metadata": {
        "id": "X8qytZ_PRJN9"
      },
      "execution_count": null,
      "outputs": []
    },
    {
      "cell_type": "markdown",
      "source": [
        "# Análisis exploratorio y limpieza"
      ],
      "metadata": {
        "id": "3ulJKrGfU_VC"
      }
    },
    {
      "cell_type": "markdown",
      "source": [
        "## Información general"
      ],
      "metadata": {
        "id": "nilKVF9pZtcZ"
      }
    },
    {
      "cell_type": "code",
      "source": [
        "df_ene_mar.info()"
      ],
      "metadata": {
        "colab": {
          "base_uri": "https://localhost:8080/"
        },
        "id": "bpPFbdhiRVjj",
        "outputId": "32f3b216-562d-4f5d-e861-023b85b540d2"
      },
      "execution_count": null,
      "outputs": [
        {
          "output_type": "stream",
          "name": "stdout",
          "text": [
            "<class 'pandas.core.frame.DataFrame'>\n",
            "RangeIndex: 238500 entries, 0 to 238499\n",
            "Data columns (total 12 columns):\n",
            " #   Column                   Non-Null Count   Dtype \n",
            "---  ------                   --------------   ----- \n",
            " 0   cdc_case_earliest_dt     238500 non-null  object\n",
            " 1   cdc_report_dt            236553 non-null  object\n",
            " 2   pos_spec_dt              136376 non-null  object\n",
            " 3   onset_dt                 166301 non-null  object\n",
            " 4   current_status           238500 non-null  object\n",
            " 5   sex                      238500 non-null  object\n",
            " 6   age_group                238500 non-null  object\n",
            " 7   race_ethnicity_combined  238500 non-null  object\n",
            " 8   hosp_yn                  238500 non-null  object\n",
            " 9   icu_yn                   238500 non-null  object\n",
            " 10  death_yn                 238500 non-null  object\n",
            " 11  medcond_yn               238500 non-null  object\n",
            "dtypes: object(12)\n",
            "memory usage: 21.8+ MB\n"
          ]
        }
      ]
    },
    {
      "cell_type": "code",
      "source": [
        "df_abr_jun.info()"
      ],
      "metadata": {
        "colab": {
          "base_uri": "https://localhost:8080/"
        },
        "id": "Qok3KPo6Zghx",
        "outputId": "f08833a0-551c-4c68-831b-6ec70515dd48"
      },
      "execution_count": null,
      "outputs": [
        {
          "output_type": "stream",
          "name": "stdout",
          "text": [
            "<class 'pandas.core.frame.DataFrame'>\n",
            "RangeIndex: 2623006 entries, 0 to 2623005\n",
            "Data columns (total 12 columns):\n",
            " #   Column                   Dtype \n",
            "---  ------                   ----- \n",
            " 0   cdc_case_earliest_dt     object\n",
            " 1   cdc_report_dt            object\n",
            " 2   pos_spec_dt              object\n",
            " 3   onset_dt                 object\n",
            " 4   current_status           object\n",
            " 5   sex                      object\n",
            " 6   age_group                object\n",
            " 7   race_ethnicity_combined  object\n",
            " 8   hosp_yn                  object\n",
            " 9   icu_yn                   object\n",
            " 10  death_yn                 object\n",
            " 11  medcond_yn               object\n",
            "dtypes: object(12)\n",
            "memory usage: 240.1+ MB\n"
          ]
        }
      ]
    },
    {
      "cell_type": "code",
      "source": [
        "df_jul_ago.info()"
      ],
      "metadata": {
        "colab": {
          "base_uri": "https://localhost:8080/"
        },
        "id": "-BKVq78r4iFP",
        "outputId": "74b24144-f297-4854-921c-d679e6f8d3e6"
      },
      "execution_count": null,
      "outputs": [
        {
          "output_type": "stream",
          "name": "stdout",
          "text": [
            "<class 'pandas.core.frame.DataFrame'>\n",
            "RangeIndex: 3219940 entries, 0 to 3219939\n",
            "Data columns (total 12 columns):\n",
            " #   Column                   Dtype \n",
            "---  ------                   ----- \n",
            " 0   cdc_case_earliest_dt     object\n",
            " 1   cdc_report_dt            object\n",
            " 2   pos_spec_dt              object\n",
            " 3   onset_dt                 object\n",
            " 4   current_status           object\n",
            " 5   sex                      object\n",
            " 6   age_group                object\n",
            " 7   race_ethnicity_combined  object\n",
            " 8   hosp_yn                  object\n",
            " 9   icu_yn                   object\n",
            " 10  death_yn                 object\n",
            " 11  medcond_yn               object\n",
            "dtypes: object(12)\n",
            "memory usage: 294.8+ MB\n"
          ]
        }
      ]
    },
    {
      "cell_type": "code",
      "source": [
        "df_sep_oct.info()"
      ],
      "metadata": {
        "colab": {
          "base_uri": "https://localhost:8080/"
        },
        "id": "8zOYzyYa4lAe",
        "outputId": "00e3258f-3725-4216-f5d7-7a47c815712c"
      },
      "execution_count": null,
      "outputs": [
        {
          "output_type": "stream",
          "name": "stdout",
          "text": [
            "<class 'pandas.core.frame.DataFrame'>\n",
            "RangeIndex: 3375131 entries, 0 to 3375130\n",
            "Data columns (total 12 columns):\n",
            " #   Column                   Dtype \n",
            "---  ------                   ----- \n",
            " 0   cdc_case_earliest_dt     object\n",
            " 1   cdc_report_dt            object\n",
            " 2   pos_spec_dt              object\n",
            " 3   onset_dt                 object\n",
            " 4   current_status           object\n",
            " 5   sex                      object\n",
            " 6   age_group                object\n",
            " 7   race_ethnicity_combined  object\n",
            " 8   hosp_yn                  object\n",
            " 9   icu_yn                   object\n",
            " 10  death_yn                 object\n",
            " 11  medcond_yn               object\n",
            "dtypes: object(12)\n",
            "memory usage: 309.0+ MB\n"
          ]
        }
      ]
    },
    {
      "cell_type": "code",
      "source": [
        "df_nov.info()"
      ],
      "metadata": {
        "colab": {
          "base_uri": "https://localhost:8080/"
        },
        "id": "OEY2Thg14o9-",
        "outputId": "f643b69a-90f3-470b-813a-9e4f804ed070"
      },
      "execution_count": null,
      "outputs": [
        {
          "output_type": "stream",
          "name": "stdout",
          "text": [
            "<class 'pandas.core.frame.DataFrame'>\n",
            "RangeIndex: 4487994 entries, 0 to 4487993\n",
            "Data columns (total 12 columns):\n",
            " #   Column                   Dtype \n",
            "---  ------                   ----- \n",
            " 0   cdc_case_earliest_dt     object\n",
            " 1   cdc_report_dt            object\n",
            " 2   pos_spec_dt              object\n",
            " 3   onset_dt                 object\n",
            " 4   current_status           object\n",
            " 5   sex                      object\n",
            " 6   age_group                object\n",
            " 7   race_ethnicity_combined  object\n",
            " 8   hosp_yn                  object\n",
            " 9   icu_yn                   object\n",
            " 10  death_yn                 object\n",
            " 11  medcond_yn               object\n",
            "dtypes: object(12)\n",
            "memory usage: 410.9+ MB\n"
          ]
        }
      ]
    },
    {
      "cell_type": "code",
      "source": [
        "df_dic.info()"
      ],
      "metadata": {
        "colab": {
          "base_uri": "https://localhost:8080/"
        },
        "id": "ueTMuCsD4scW",
        "outputId": "d0c72af6-2049-4dfd-8221-dc5bff1156a7"
      },
      "execution_count": null,
      "outputs": [
        {
          "output_type": "stream",
          "name": "stdout",
          "text": [
            "<class 'pandas.core.frame.DataFrame'>\n",
            "RangeIndex: 6105987 entries, 0 to 6105986\n",
            "Data columns (total 12 columns):\n",
            " #   Column                   Dtype \n",
            "---  ------                   ----- \n",
            " 0   cdc_case_earliest_dt     object\n",
            " 1   cdc_report_dt            object\n",
            " 2   pos_spec_dt              object\n",
            " 3   onset_dt                 object\n",
            " 4   current_status           object\n",
            " 5   sex                      object\n",
            " 6   age_group                object\n",
            " 7   race_ethnicity_combined  object\n",
            " 8   hosp_yn                  object\n",
            " 9   icu_yn                   object\n",
            " 10  death_yn                 object\n",
            " 11  medcond_yn               object\n",
            "dtypes: object(12)\n",
            "memory usage: 559.0+ MB\n"
          ]
        }
      ]
    },
    {
      "cell_type": "markdown",
      "source": [
        "## Valores nulos"
      ],
      "metadata": {
        "id": "7J4aK4dVZvfB"
      }
    },
    {
      "cell_type": "code",
      "source": [
        "print(df_ene_mar.isnull().sum())"
      ],
      "metadata": {
        "colab": {
          "base_uri": "https://localhost:8080/"
        },
        "id": "4W6-m7zaZprR",
        "outputId": "f8c3489f-2901-4978-b0b1-464f9b83d3c4"
      },
      "execution_count": null,
      "outputs": [
        {
          "output_type": "stream",
          "name": "stdout",
          "text": [
            "cdc_case_earliest_dt            0\n",
            "cdc_report_dt                1947\n",
            "pos_spec_dt                102124\n",
            "onset_dt                    72199\n",
            "current_status                  0\n",
            "sex                             0\n",
            "age_group                       0\n",
            "race_ethnicity_combined         0\n",
            "hosp_yn                         0\n",
            "icu_yn                          0\n",
            "death_yn                        0\n",
            "medcond_yn                      0\n",
            "dtype: int64\n"
          ]
        }
      ]
    },
    {
      "cell_type": "code",
      "source": [
        "# Valores nulos\n",
        "print(df_abr_jun.isnull().sum())"
      ],
      "metadata": {
        "colab": {
          "base_uri": "https://localhost:8080/"
        },
        "id": "M49uXFT4VPfi",
        "outputId": "355496ae-2b79-4875-e3bf-ae40693a2e9a"
      },
      "execution_count": null,
      "outputs": [
        {
          "output_type": "stream",
          "name": "stdout",
          "text": [
            "cdc_case_earliest_dt             0\n",
            "cdc_report_dt               120845\n",
            "pos_spec_dt                1540988\n",
            "onset_dt                   1322648\n",
            "current_status                   0\n",
            "sex                              0\n",
            "age_group                        0\n",
            "race_ethnicity_combined          0\n",
            "hosp_yn                          0\n",
            "icu_yn                           0\n",
            "death_yn                         0\n",
            "medcond_yn                       0\n",
            "dtype: int64\n"
          ]
        }
      ]
    },
    {
      "cell_type": "code",
      "source": [
        "print(df_jul_ago.isnull().sum())"
      ],
      "metadata": {
        "colab": {
          "base_uri": "https://localhost:8080/"
        },
        "id": "wxGZH7ce5izv",
        "outputId": "e1591fd3-b933-4426-95b9-dd0b7f4f36cc"
      },
      "execution_count": null,
      "outputs": [
        {
          "output_type": "stream",
          "name": "stdout",
          "text": [
            "cdc_case_earliest_dt             0\n",
            "cdc_report_dt               227023\n",
            "pos_spec_dt                2339650\n",
            "onset_dt                   1721531\n",
            "current_status                   0\n",
            "sex                              0\n",
            "age_group                        0\n",
            "race_ethnicity_combined          0\n",
            "hosp_yn                          0\n",
            "icu_yn                           0\n",
            "death_yn                         0\n",
            "medcond_yn                       0\n",
            "dtype: int64\n"
          ]
        }
      ]
    },
    {
      "cell_type": "code",
      "source": [
        "print(df_sep_oct.isnull().sum())"
      ],
      "metadata": {
        "colab": {
          "base_uri": "https://localhost:8080/"
        },
        "id": "vTcUxN0h5l8e",
        "outputId": "17c07b57-8bc1-41a4-acf2-1b198e4b2290"
      },
      "execution_count": null,
      "outputs": [
        {
          "output_type": "stream",
          "name": "stdout",
          "text": [
            "cdc_case_earliest_dt             0\n",
            "cdc_report_dt                91969\n",
            "pos_spec_dt                2206917\n",
            "onset_dt                   1429385\n",
            "current_status                   0\n",
            "sex                              0\n",
            "age_group                        0\n",
            "race_ethnicity_combined          0\n",
            "hosp_yn                          0\n",
            "icu_yn                           0\n",
            "death_yn                         0\n",
            "medcond_yn                       0\n",
            "dtype: int64\n"
          ]
        }
      ]
    },
    {
      "cell_type": "code",
      "source": [
        "print(df_nov.isnull().sum())"
      ],
      "metadata": {
        "colab": {
          "base_uri": "https://localhost:8080/"
        },
        "id": "a7doWNJO5rve",
        "outputId": "c040fc8c-bbf2-4634-dbc7-6cef82e0eb33"
      },
      "execution_count": null,
      "outputs": [
        {
          "output_type": "stream",
          "name": "stdout",
          "text": [
            "cdc_case_earliest_dt             0\n",
            "cdc_report_dt               190864\n",
            "pos_spec_dt                2725998\n",
            "onset_dt                   2119566\n",
            "current_status                   0\n",
            "sex                              0\n",
            "age_group                        1\n",
            "race_ethnicity_combined          0\n",
            "hosp_yn                          0\n",
            "icu_yn                           0\n",
            "death_yn                         0\n",
            "medcond_yn                       0\n",
            "dtype: int64\n"
          ]
        }
      ]
    },
    {
      "cell_type": "code",
      "source": [
        "print(df_dic.isnull().sum())"
      ],
      "metadata": {
        "colab": {
          "base_uri": "https://localhost:8080/"
        },
        "id": "qAGrjnf85zcn",
        "outputId": "102bca44-3d89-4083-8821-8acb86de08d9"
      },
      "execution_count": null,
      "outputs": [
        {
          "output_type": "stream",
          "name": "stdout",
          "text": [
            "cdc_case_earliest_dt             0\n",
            "cdc_report_dt               846724\n",
            "pos_spec_dt                3963970\n",
            "onset_dt                   3471821\n",
            "current_status                   0\n",
            "sex                              0\n",
            "age_group                        0\n",
            "race_ethnicity_combined          0\n",
            "hosp_yn                          0\n",
            "icu_yn                           0\n",
            "death_yn                         0\n",
            "medcond_yn                       0\n",
            "dtype: int64\n"
          ]
        }
      ]
    },
    {
      "cell_type": "markdown",
      "source": [
        "## Eliminación preliminar"
      ],
      "metadata": {
        "id": "IHV3lNkpZz-Y"
      }
    },
    {
      "cell_type": "code",
      "source": [
        "df_1 = df_ene_mar.drop(columns=['cdc_report_dt', 'pos_spec_dt', 'onset_dt', 'icu_yn'])\n",
        "df_2 = df_abr_jun.drop(columns=['cdc_report_dt', 'pos_spec_dt', 'onset_dt', 'icu_yn'])\n",
        "df_3 = df_jul_ago.drop(columns=['cdc_report_dt', 'pos_spec_dt', 'onset_dt', 'icu_yn'])\n",
        "df_4 = df_sep_oct.drop(columns=['cdc_report_dt', 'pos_spec_dt', 'onset_dt', 'icu_yn'])\n",
        "df_5 = df_nov.drop(columns=['cdc_report_dt', 'pos_spec_dt', 'onset_dt', 'icu_yn'])\n",
        "df_6 = df_dic.drop(columns=['cdc_report_dt', 'pos_spec_dt', 'onset_dt', 'icu_yn'])"
      ],
      "metadata": {
        "id": "mIMvRpsSZ915"
      },
      "execution_count": null,
      "outputs": []
    },
    {
      "cell_type": "markdown",
      "source": [
        "# Verificar valores variables categóricas"
      ],
      "metadata": {
        "id": "Dfr7igV46Xzf"
      }
    },
    {
      "cell_type": "code",
      "source": [
        "# Ver los valores únicos\n",
        "# Lista de columnas que NO queremos analizar\n",
        "columnas_excluir = ['cdc_case_earliest_dt ', 'cdc_report_dt', 'pos_spec_dt', 'onset_dt']\n",
        "\n",
        "print(\"ENERO-MARZO\")\n",
        "for columna in df_1.columns:\n",
        "    if columna not in columnas_excluir:\n",
        "        print(f\"Valores únicos en {columna}: {df_1[columna].unique()}\")\n",
        "print(\" \")\n",
        "print(\"ABRIL-JUNIO\")\n",
        "for columna in df_2.columns:\n",
        "    if columna not in columnas_excluir:\n",
        "        print(f\"Valores únicos en {columna}: {df_2[columna].unique()}\")\n",
        "\n",
        "print(\" \")\n",
        "print(\"JULIO-AGOSTO\")\n",
        "for columna in df_3.columns:\n",
        "    if columna not in columnas_excluir:\n",
        "        print(f\"Valores únicos en {columna}: {df_3[columna].unique()}\")\n",
        "\n",
        "print(\" \")\n",
        "print(\"SEPTIEMBRE-OCTUBRE\")\n",
        "for columna in df_4.columns:\n",
        "    if columna not in columnas_excluir:\n",
        "        print(f\"Valores únicos en {columna}: {df_4[columna].unique()}\")\n",
        "\n",
        "print(\" \")\n",
        "print(\"NOVIEMBRE\")\n",
        "for columna in df_5.columns:\n",
        "    if columna not in columnas_excluir:\n",
        "        print(f\"Valores únicos en {columna}: {df_5[columna].unique()}\")\n",
        "\n",
        "print(\" \")\n",
        "print(\"DICIEMBRE\")\n",
        "for columna in df_6.columns:\n",
        "    if columna not in columnas_excluir:\n",
        "        print(f\"Valores únicos en {columna}: {df_6[columna].unique()}\")"
      ],
      "metadata": {
        "colab": {
          "base_uri": "https://localhost:8080/"
        },
        "id": "vFeX_lh1Vaqb",
        "outputId": "1a30dd1f-80e2-4174-a712-53e9dcde0682"
      },
      "execution_count": null,
      "outputs": [
        {
          "output_type": "stream",
          "name": "stdout",
          "text": [
            "ENERO-MARZO\n",
            "Valores únicos en current_status: ['Probable Case' 'Laboratory-confirmed case']\n",
            "Valores únicos en sex: ['Male' 'Female' 'Unknown' 'Missing' 'Other']\n",
            "Valores únicos en age_group: ['10 - 19 Years' '20 - 29 Years' '40 - 49 Years' '60 - 69 Years'\n",
            " '50 - 59 Years' '70 - 79 Years' '80+ Years' 'Missing' '30 - 39 Years'\n",
            " '0 - 9 Years']\n",
            "Valores únicos en race_ethnicity_combined: ['Black, Non-Hispanic' 'Hispanic/Latino' 'White, Non-Hispanic'\n",
            " 'Asian, Non-Hispanic' 'American Indian/Alaska Native, Non-Hispanic'\n",
            " 'Unknown' 'Multiple/Other, Non-Hispanic' 'Missing'\n",
            " 'Native Hawaiian/Other Pacific Islander, Non-Hispanic']\n",
            "Valores únicos en hosp_yn: ['Missing' 'No' 'Unknown' 'Yes']\n",
            "Valores únicos en death_yn: ['No' 'Yes' 'Missing' 'Unknown']\n",
            "Valores únicos en medcond_yn: ['Missing' 'Unknown' 'Yes' 'No']\n",
            " \n",
            "ABRIL-JUNIO\n",
            "Valores únicos en current_status: ['Laboratory-confirmed case' 'Probable Case']\n",
            "Valores únicos en sex: ['Male' 'Missing' 'Unknown' 'Female' 'Other']\n",
            "Valores únicos en age_group: ['10 - 19 Years' 'Missing' '20 - 29 Years' '40 - 49 Years' '30 - 39 Years'\n",
            " '80+ Years' '60 - 69 Years' '0 - 9 Years' '50 - 59 Years' '70 - 79 Years']\n",
            "Valores únicos en race_ethnicity_combined: ['Black, Non-Hispanic' 'Unknown' 'Hispanic/Latino' 'White, Non-Hispanic'\n",
            " 'Multiple/Other, Non-Hispanic'\n",
            " 'Native Hawaiian/Other Pacific Islander, Non-Hispanic'\n",
            " 'Asian, Non-Hispanic' 'American Indian/Alaska Native, Non-Hispanic'\n",
            " 'Missing']\n",
            "Valores únicos en hosp_yn: ['Unknown' 'No' 'Yes' 'Missing']\n",
            "Valores únicos en death_yn: ['Unknown' 'Missing' 'No' 'Yes']\n",
            "Valores únicos en medcond_yn: ['Unknown' 'Missing' 'Yes' 'No']\n",
            " \n",
            "JULIO-AGOSTO\n",
            "Valores únicos en current_status: ['Laboratory-confirmed case' 'Probable Case']\n",
            "Valores únicos en sex: ['Male' 'Missing' 'Unknown' 'Female' 'Other']\n",
            "Valores únicos en age_group: ['10 - 19 Years' 'Missing' '20 - 29 Years' '40 - 49 Years' '30 - 39 Years'\n",
            " '80+ Years' '60 - 69 Years' '70 - 79 Years' '0 - 9 Years' '50 - 59 Years']\n",
            "Valores únicos en race_ethnicity_combined: ['Black, Non-Hispanic' 'Unknown' 'Hispanic/Latino' 'White, Non-Hispanic'\n",
            " 'Multiple/Other, Non-Hispanic'\n",
            " 'Native Hawaiian/Other Pacific Islander, Non-Hispanic'\n",
            " 'American Indian/Alaska Native, Non-Hispanic' 'Missing'\n",
            " 'Asian, Non-Hispanic']\n",
            "Valores únicos en hosp_yn: ['Missing' 'No' 'Unknown' 'Yes']\n",
            "Valores únicos en death_yn: ['Missing' 'No' 'Unknown' 'Yes']\n",
            "Valores únicos en medcond_yn: ['Missing' 'Yes' 'No' 'Unknown']\n",
            " \n",
            "SEPTIEMBRE-OCTUBRE\n",
            "Valores únicos en current_status: ['Laboratory-confirmed case' 'Probable Case']\n",
            "Valores únicos en sex: ['Male' 'Missing' 'Unknown' 'Female' 'Other']\n",
            "Valores únicos en age_group: ['10 - 19 Years' 'Missing' '20 - 29 Years' '40 - 49 Years' '30 - 39 Years'\n",
            " '80+ Years' '60 - 69 Years' '0 - 9 Years' '50 - 59 Years' '70 - 79 Years']\n",
            "Valores únicos en race_ethnicity_combined: ['Black, Non-Hispanic' 'Unknown' 'Hispanic/Latino' 'White, Non-Hispanic'\n",
            " 'Multiple/Other, Non-Hispanic'\n",
            " 'Native Hawaiian/Other Pacific Islander, Non-Hispanic'\n",
            " 'American Indian/Alaska Native, Non-Hispanic' 'Asian, Non-Hispanic'\n",
            " 'Missing']\n",
            "Valores únicos en hosp_yn: ['No' 'Unknown' 'Missing' 'Yes']\n",
            "Valores únicos en death_yn: ['No' 'Missing' 'Unknown' 'Yes']\n",
            "Valores únicos en medcond_yn: ['No' 'Missing' 'Yes' 'Unknown']\n",
            " \n",
            "NOVIEMBRE\n",
            "Valores únicos en current_status: ['Laboratory-confirmed case' 'Probable Case']\n",
            "Valores únicos en sex: ['Male' 'Missing' 'Unknown' 'Female' 'Other']\n",
            "Valores únicos en age_group: ['10 - 19 Years' 'Missing' '20 - 29 Years' '40 - 49 Years' '30 - 39 Years'\n",
            " '80+ Years' '60 - 69 Years' '0 - 9 Years' '50 - 59 Years' '70 - 79 Years'\n",
            " nan]\n",
            "Valores únicos en race_ethnicity_combined: ['Black, Non-Hispanic' 'Unknown' 'Hispanic/Latino' 'White, Non-Hispanic'\n",
            " 'Multiple/Other, Non-Hispanic'\n",
            " 'Native Hawaiian/Other Pacific Islander, Non-Hispanic'\n",
            " 'American Indian/Alaska Native, Non-Hispanic' 'Asian, Non-Hispanic'\n",
            " 'Missing']\n",
            "Valores únicos en hosp_yn: ['Unknown' 'Missing' 'No' 'Yes']\n",
            "Valores únicos en death_yn: ['Missing' 'No' 'Unknown' 'Yes']\n",
            "Valores únicos en medcond_yn: ['No' 'Missing' 'Unknown' 'Yes']\n",
            " \n",
            "DICIEMBRE\n",
            "Valores únicos en current_status: ['Laboratory-confirmed case' 'Probable Case']\n",
            "Valores únicos en sex: ['Male' 'Missing' 'Unknown' 'Female' 'Other']\n",
            "Valores únicos en age_group: ['10 - 19 Years' 'Missing' '20 - 29 Years' '40 - 49 Years' '80+ Years'\n",
            " '30 - 39 Years' '60 - 69 Years' '70 - 79 Years' '0 - 9 Years'\n",
            " '50 - 59 Years']\n",
            "Valores únicos en race_ethnicity_combined: ['Black, Non-Hispanic' 'Unknown' 'Hispanic/Latino' 'White, Non-Hispanic'\n",
            " 'Multiple/Other, Non-Hispanic'\n",
            " 'Native Hawaiian/Other Pacific Islander, Non-Hispanic'\n",
            " 'American Indian/Alaska Native, Non-Hispanic' 'Missing'\n",
            " 'Asian, Non-Hispanic']\n",
            "Valores únicos en hosp_yn: ['Missing' 'Unknown' 'No' 'Yes']\n",
            "Valores únicos en death_yn: ['Missing' 'Unknown' 'No' 'Yes']\n",
            "Valores únicos en medcond_yn: ['Unknown' 'No' 'Missing' 'Yes']\n"
          ]
        }
      ]
    },
    {
      "cell_type": "markdown",
      "source": [
        "Teniendo en cuenta que nuestro principal interés radica en analizar los casos que resultan graves, decidimos eliminar todos los registros desconocidos"
      ],
      "metadata": {
        "id": "n-slsM2FYrlB"
      }
    },
    {
      "cell_type": "code",
      "source": [
        "# Lista de columnas que queremos analizar\n",
        "columnas_interes = ['hosp_yn', 'death_yn']\n",
        "\n",
        "# Función para contar 'Missing' o 'Unknown' en cada columna\n",
        "print(\"ENERO-MARZO\")\n",
        "for columna in df_1.columns:\n",
        "  if columna  in columnas_interes:\n",
        "    count_missing_unknown = df_1[columna].isin(['Missing', 'Unknown']).sum()\n",
        "    print(f\"Registros 'Missing' o 'Unknown' en {columna}: {count_missing_unknown}\")\n",
        "\n",
        "print(\" \")\n",
        "print(\"ABRIL-JUNIO\")\n",
        "for columna in df_2.columns:\n",
        "  if columna  in columnas_interes:\n",
        "    count_missing_unknown = df_2[columna].isin(['Missing', 'Unknown']).sum()\n",
        "    print(f\"Registros 'Missing' o 'Unknown' en {columna}: {count_missing_unknown}\")\n",
        "\n",
        "print(\" \")\n",
        "print(\"JULIO-AGOSTO\")\n",
        "for columna in df_3.columns:\n",
        "  if columna  in columnas_interes:\n",
        "    count_missing_unknown = df_3[columna].isin(['Missing', 'Unknown']).sum()\n",
        "    print(f\"Registros 'Missing' o 'Unknown' en {columna}: {count_missing_unknown}\")\n",
        "\n",
        "print(\" \")\n",
        "print(\"SEPTIEMBRE-OCTUBRE\")\n",
        "for columna in df_4.columns:\n",
        "  if columna  in columnas_interes:\n",
        "    count_missing_unknown = df_4[columna].isin(['Missing', 'Unknown']).sum()\n",
        "    print(f\"Registros 'Missing' o 'Unknown' en {columna}: {count_missing_unknown}\")\n",
        "\n",
        "print(\" \")\n",
        "print(\"NOVIEMBRE\")\n",
        "for columna in df_5.columns:\n",
        "  if columna  in columnas_interes:\n",
        "    count_missing_unknown = df_5[columna].isin(['Missing', 'Unknown']).sum()\n",
        "    print(f\"Registros 'Missing' o 'Unknown' en {columna}: {count_missing_unknown}\")\n",
        "\n",
        "print(\" \")\n",
        "print(\"DICIEMBRE\")\n",
        "for columna in df_6.columns:\n",
        "  if columna  in columnas_interes:\n",
        "    count_missing_unknown = df_6[columna].isin(['Missing', 'Unknown']).sum()\n",
        "    print(f\"Registros 'Missing' o 'Unknown' en {columna}: {count_missing_unknown}\")"
      ],
      "metadata": {
        "colab": {
          "base_uri": "https://localhost:8080/"
        },
        "id": "aZMY-6W7YgXy",
        "outputId": "4140e03e-55c8-4ff6-d348-96f3847f65d8"
      },
      "execution_count": null,
      "outputs": [
        {
          "output_type": "stream",
          "name": "stdout",
          "text": [
            "ENERO-MARZO\n",
            "Registros 'Missing' o 'Unknown' en hosp_yn: 76397\n",
            "Registros 'Missing' o 'Unknown' en death_yn: 102334\n",
            " \n",
            "ABRIL-JUNIO\n",
            "Registros 'Missing' o 'Unknown' en hosp_yn: 1176225\n",
            "Registros 'Missing' o 'Unknown' en death_yn: 1336065\n",
            " \n",
            "JULIO-AGOSTO\n",
            "Registros 'Missing' o 'Unknown' en hosp_yn: 1542010\n",
            "Registros 'Missing' o 'Unknown' en death_yn: 1988889\n",
            " \n",
            "SEPTIEMBRE-OCTUBRE\n",
            "Registros 'Missing' o 'Unknown' en hosp_yn: 1564300\n",
            "Registros 'Missing' o 'Unknown' en death_yn: 1959932\n",
            " \n",
            "NOVIEMBRE\n",
            "Registros 'Missing' o 'Unknown' en hosp_yn: 2397753\n",
            "Registros 'Missing' o 'Unknown' en death_yn: 2749211\n",
            " \n",
            "DICIEMBRE\n",
            "Registros 'Missing' o 'Unknown' en hosp_yn: 3442644\n",
            "Registros 'Missing' o 'Unknown' en death_yn: 4162550\n"
          ]
        }
      ]
    },
    {
      "cell_type": "code",
      "source": [
        "# Eliminar filas donde 'hosp_yn' o 'death_yn' contienen 'Missing' o 'Unknown'\n",
        "df_1_depurada = df_1[~(df_1['hosp_yn'].isin(['Missing', 'Unknown']) | df_1['death_yn'].isin(['Missing', 'Unknown']))]\n",
        "df_2_depurada = df_2[~(df_2['hosp_yn'].isin(['Missing', 'Unknown']) | df_2['death_yn'].isin(['Missing', 'Unknown']))]\n",
        "df_3_depurada = df_3[~(df_3['hosp_yn'].isin(['Missing', 'Unknown']) | df_3['death_yn'].isin(['Missing', 'Unknown']))]\n",
        "df_4_depurada = df_4[~(df_4['hosp_yn'].isin(['Missing', 'Unknown']) | df_4['death_yn'].isin(['Missing', 'Unknown']))]\n",
        "df_5_depurada = df_5[~(df_5['hosp_yn'].isin(['Missing', 'Unknown']) | df_5['death_yn'].isin(['Missing', 'Unknown']))]\n",
        "df_6_depurada = df_6[~(df_6['hosp_yn'].isin(['Missing', 'Unknown']) | df_6['death_yn'].isin(['Missing', 'Unknown']))]"
      ],
      "metadata": {
        "id": "lCgm3u_Ub8ro"
      },
      "execution_count": null,
      "outputs": []
    },
    {
      "cell_type": "code",
      "source": [
        "df_1_depurada.info()"
      ],
      "metadata": {
        "colab": {
          "base_uri": "https://localhost:8080/"
        },
        "id": "JTgbG5xWd7FQ",
        "outputId": "7b0d7cfc-1520-425c-98fd-e22d333e1e18"
      },
      "execution_count": null,
      "outputs": [
        {
          "output_type": "stream",
          "name": "stdout",
          "text": [
            "<class 'pandas.core.frame.DataFrame'>\n",
            "Index: 109660 entries, 2 to 238499\n",
            "Data columns (total 8 columns):\n",
            " #   Column                   Non-Null Count   Dtype \n",
            "---  ------                   --------------   ----- \n",
            " 0   cdc_case_earliest_dt     109660 non-null  object\n",
            " 1   current_status           109660 non-null  object\n",
            " 2   sex                      109660 non-null  object\n",
            " 3   age_group                109660 non-null  object\n",
            " 4   race_ethnicity_combined  109660 non-null  object\n",
            " 5   hosp_yn                  109660 non-null  object\n",
            " 6   death_yn                 109660 non-null  object\n",
            " 7   medcond_yn               109660 non-null  object\n",
            "dtypes: object(8)\n",
            "memory usage: 7.5+ MB\n"
          ]
        }
      ]
    },
    {
      "cell_type": "code",
      "source": [
        "df_2_depurada.info()"
      ],
      "metadata": {
        "colab": {
          "base_uri": "https://localhost:8080/"
        },
        "id": "2N1hegsud_Pn",
        "outputId": "21994e03-f83a-4f73-ef7f-19896ef636f5"
      },
      "execution_count": null,
      "outputs": [
        {
          "output_type": "stream",
          "name": "stdout",
          "text": [
            "<class 'pandas.core.frame.DataFrame'>\n",
            "Index: 913972 entries, 5 to 2622985\n",
            "Data columns (total 8 columns):\n",
            " #   Column                   Non-Null Count   Dtype \n",
            "---  ------                   --------------   ----- \n",
            " 0   cdc_case_earliest_dt     913972 non-null  object\n",
            " 1   current_status           913972 non-null  object\n",
            " 2   sex                      913972 non-null  object\n",
            " 3   age_group                913972 non-null  object\n",
            " 4   race_ethnicity_combined  913972 non-null  object\n",
            " 5   hosp_yn                  913972 non-null  object\n",
            " 6   death_yn                 913972 non-null  object\n",
            " 7   medcond_yn               913972 non-null  object\n",
            "dtypes: object(8)\n",
            "memory usage: 62.8+ MB\n"
          ]
        }
      ]
    },
    {
      "cell_type": "code",
      "source": [
        "df_3_depurada.info()"
      ],
      "metadata": {
        "colab": {
          "base_uri": "https://localhost:8080/"
        },
        "id": "fv3lSHCt-ngE",
        "outputId": "a0efd6ea-11d6-4d95-8557-94f139fab72a"
      },
      "execution_count": null,
      "outputs": [
        {
          "output_type": "stream",
          "name": "stdout",
          "text": [
            "<class 'pandas.core.frame.DataFrame'>\n",
            "Index: 970137 entries, 1 to 3219925\n",
            "Data columns (total 8 columns):\n",
            " #   Column                   Non-Null Count   Dtype \n",
            "---  ------                   --------------   ----- \n",
            " 0   cdc_case_earliest_dt     970137 non-null  object\n",
            " 1   current_status           970137 non-null  object\n",
            " 2   sex                      970137 non-null  object\n",
            " 3   age_group                970137 non-null  object\n",
            " 4   race_ethnicity_combined  970137 non-null  object\n",
            " 5   hosp_yn                  970137 non-null  object\n",
            " 6   death_yn                 970137 non-null  object\n",
            " 7   medcond_yn               970137 non-null  object\n",
            "dtypes: object(8)\n",
            "memory usage: 66.6+ MB\n"
          ]
        }
      ]
    },
    {
      "cell_type": "code",
      "source": [
        "df_4_depurada.info()"
      ],
      "metadata": {
        "colab": {
          "base_uri": "https://localhost:8080/"
        },
        "id": "ZCMHmOpn_bW7",
        "outputId": "e406ef5b-3c5d-4c1a-8ca5-46cd4d6408d9"
      },
      "execution_count": null,
      "outputs": [
        {
          "output_type": "stream",
          "name": "stdout",
          "text": [
            "<class 'pandas.core.frame.DataFrame'>\n",
            "Index: 1146542 entries, 0 to 3375125\n",
            "Data columns (total 8 columns):\n",
            " #   Column                   Non-Null Count    Dtype \n",
            "---  ------                   --------------    ----- \n",
            " 0   cdc_case_earliest_dt     1146542 non-null  object\n",
            " 1   current_status           1146542 non-null  object\n",
            " 2   sex                      1146542 non-null  object\n",
            " 3   age_group                1146542 non-null  object\n",
            " 4   race_ethnicity_combined  1146542 non-null  object\n",
            " 5   hosp_yn                  1146542 non-null  object\n",
            " 6   death_yn                 1146542 non-null  object\n",
            " 7   medcond_yn               1146542 non-null  object\n",
            "dtypes: object(8)\n",
            "memory usage: 78.7+ MB\n"
          ]
        }
      ]
    },
    {
      "cell_type": "code",
      "source": [
        "df_5_depurada.info()"
      ],
      "metadata": {
        "colab": {
          "base_uri": "https://localhost:8080/"
        },
        "id": "CfW2eV-n_dIz",
        "outputId": "64322d02-54e7-4ca1-9f1e-017403fafe31"
      },
      "execution_count": null,
      "outputs": [
        {
          "output_type": "stream",
          "name": "stdout",
          "text": [
            "<class 'pandas.core.frame.DataFrame'>\n",
            "Index: 1264401 entries, 4 to 4487984\n",
            "Data columns (total 8 columns):\n",
            " #   Column                   Non-Null Count    Dtype \n",
            "---  ------                   --------------    ----- \n",
            " 0   cdc_case_earliest_dt     1264401 non-null  object\n",
            " 1   current_status           1264401 non-null  object\n",
            " 2   sex                      1264401 non-null  object\n",
            " 3   age_group                1264401 non-null  object\n",
            " 4   race_ethnicity_combined  1264401 non-null  object\n",
            " 5   hosp_yn                  1264401 non-null  object\n",
            " 6   death_yn                 1264401 non-null  object\n",
            " 7   medcond_yn               1264401 non-null  object\n",
            "dtypes: object(8)\n",
            "memory usage: 86.8+ MB\n"
          ]
        }
      ]
    },
    {
      "cell_type": "code",
      "source": [
        "df_6_depurada.info()"
      ],
      "metadata": {
        "colab": {
          "base_uri": "https://localhost:8080/"
        },
        "id": "Nk3QzcuA_eNz",
        "outputId": "9bf84846-7298-4a4f-cec7-296d3d6c6664"
      },
      "execution_count": null,
      "outputs": [
        {
          "output_type": "stream",
          "name": "stdout",
          "text": [
            "<class 'pandas.core.frame.DataFrame'>\n",
            "Index: 1379220 entries, 2 to 6105977\n",
            "Data columns (total 8 columns):\n",
            " #   Column                   Non-Null Count    Dtype \n",
            "---  ------                   --------------    ----- \n",
            " 0   cdc_case_earliest_dt     1379220 non-null  object\n",
            " 1   current_status           1379220 non-null  object\n",
            " 2   sex                      1379220 non-null  object\n",
            " 3   age_group                1379220 non-null  object\n",
            " 4   race_ethnicity_combined  1379220 non-null  object\n",
            " 5   hosp_yn                  1379220 non-null  object\n",
            " 6   death_yn                 1379220 non-null  object\n",
            " 7   medcond_yn               1379220 non-null  object\n",
            "dtypes: object(8)\n",
            "memory usage: 94.7+ MB\n"
          ]
        }
      ]
    },
    {
      "cell_type": "markdown",
      "source": [
        "## Unir dataframes"
      ],
      "metadata": {
        "id": "2INiUpGB_oVT"
      }
    },
    {
      "cell_type": "code",
      "source": [
        "datos = pd.concat([df_1_depurada, df_2_depurada, df_3_depurada, df_4_depurada, df_5_depurada, df_6_depurada], ignore_index=True)"
      ],
      "metadata": {
        "id": "ayJ1-2Az_s76"
      },
      "execution_count": null,
      "outputs": []
    },
    {
      "cell_type": "code",
      "source": [
        "datos.info()"
      ],
      "metadata": {
        "colab": {
          "base_uri": "https://localhost:8080/"
        },
        "id": "3xWGlrxJ_5F6",
        "outputId": "d9581aa1-e692-4af4-a295-7cd9fb148b97"
      },
      "execution_count": null,
      "outputs": [
        {
          "output_type": "stream",
          "name": "stdout",
          "text": [
            "<class 'pandas.core.frame.DataFrame'>\n",
            "RangeIndex: 5783932 entries, 0 to 5783931\n",
            "Data columns (total 8 columns):\n",
            " #   Column                   Dtype \n",
            "---  ------                   ----- \n",
            " 0   cdc_case_earliest_dt     object\n",
            " 1   current_status           object\n",
            " 2   sex                      object\n",
            " 3   age_group                object\n",
            " 4   race_ethnicity_combined  object\n",
            " 5   hosp_yn                  object\n",
            " 6   death_yn                 object\n",
            " 7   medcond_yn               object\n",
            "dtypes: object(8)\n",
            "memory usage: 353.0+ MB\n"
          ]
        }
      ]
    },
    {
      "cell_type": "markdown",
      "source": [
        "# Cargar"
      ],
      "metadata": {
        "id": "fHX-CX9JePqX"
      }
    },
    {
      "cell_type": "code",
      "source": [
        "# Exportar el DataFrame a un archivo CSV\n",
        "datos.to_csv('datos.csv', index=False)"
      ],
      "metadata": {
        "id": "k3TTxMipeQ_R"
      },
      "execution_count": null,
      "outputs": []
    }
  ]
}